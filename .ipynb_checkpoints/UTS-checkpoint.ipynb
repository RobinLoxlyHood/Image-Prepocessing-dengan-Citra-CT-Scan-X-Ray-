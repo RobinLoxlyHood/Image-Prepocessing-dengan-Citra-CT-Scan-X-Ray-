{
 "cells": [
  {
   "cell_type": "code",
   "execution_count": 1,
   "id": "f5ab468f",
   "metadata": {},
   "outputs": [],
   "source": [
    "import numpy as np\n",
    "import cv2 as cv"
   ]
  },
  {
   "cell_type": "code",
   "execution_count": null,
   "id": "062ae086",
   "metadata": {},
   "outputs": [],
   "source": [
    "img1 = cv.imread('hatta.jpg')\n",
    "img2 = cv.imread('soekarno.jpg')"
   ]
  }
 ],
 "metadata": {
  "kernelspec": {
   "display_name": "imageprocessing",
   "language": "python",
   "name": "imageprocessing"
  },
  "language_info": {
   "codemirror_mode": {
    "name": "ipython",
    "version": 3
   },
   "file_extension": ".py",
   "mimetype": "text/x-python",
   "name": "python",
   "nbconvert_exporter": "python",
   "pygments_lexer": "ipython3",
   "version": "3.7.5"
  }
 },
 "nbformat": 4,
 "nbformat_minor": 5
}
